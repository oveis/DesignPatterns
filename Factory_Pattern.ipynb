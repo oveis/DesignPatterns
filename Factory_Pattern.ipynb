{
 "cells": [
  {
   "cell_type": "markdown",
   "metadata": {},
   "source": [
    "# Factory Pattern"
   ]
  },
  {
   "cell_type": "markdown",
   "metadata": {},
   "source": [
    "**The Factory Method Pattern** defines an interface for creating an object, but lets subclass decide which class to instantiate.  \n",
    "Factory Method lets a class defer instantiation to subsclasses."
   ]
  },
  {
   "cell_type": "markdown",
   "metadata": {},
   "source": [
    "### Original Code\n",
    "* When pizza types are added /deleted, need to update code."
   ]
  },
  {
   "cell_type": "code",
   "execution_count": null,
   "metadata": {},
   "outputs": [],
   "source": [
    "def order_pizza(type: str) -> Pizza:\n",
    "    if type == 'cheese':\n",
    "        pizza = CheesePizza()\n",
    "    elif type == 'greek':\n",
    "        pizza = GreekPizza()\n",
    "    elif type == 'pepperoni':\n",
    "        pizza = PepperoniPizza()\n",
    "    else:\n",
    "        raise ValueError(f\"Not defined pizza type: {type}\")\n",
    "        \n",
    "    pizza.prepare()\n",
    "    pizza.bake()\n",
    "    pizza.cut()\n",
    "    pizza.box()\n",
    "    return pizza"
   ]
  },
  {
   "cell_type": "markdown",
   "metadata": {},
   "source": [
    "### Updated Version\n",
    "* Split changeable and non-changeable code.\n",
    "* Flexible to add / delete new pizza type."
   ]
  },
  {
   "cell_type": "code",
   "execution_count": null,
   "metadata": {},
   "outputs": [],
   "source": [
    "class SimplePizzaFactory:\n",
    "    def create_pizza(self, type: str) -> Pizza:        \n",
    "        if type == 'cheese':\n",
    "            pizza = CheesePizza()\n",
    "        elif type == 'greek':\n",
    "            pizza = GreekPizza()\n",
    "        elif type == 'pepperoni':\n",
    "            pizza = PepperoniPizza()\n",
    "        else:\n",
    "            raise ValueError(f\"Not defined pizza type: {type}\")\n",
    "        \n",
    "        return pizza"
   ]
  },
  {
   "cell_type": "code",
   "execution_count": null,
   "metadata": {},
   "outputs": [],
   "source": [
    "class PizzaStore:\n",
    "    def __init__(self, factory: SimplePizzaFactory):\n",
    "        self._factory = factory\n",
    "        \n",
    "    def order_pizza(type: str) -> Pizza:\n",
    "        pizza = self._factory.create_pizza(type)\n",
    "        \n",
    "        pizza.prepare()\n",
    "        pizza.bake()\n",
    "        pizza.cut()\n",
    "        pizza.box()\n",
    "        return pizza"
   ]
  },
  {
   "cell_type": "code",
   "execution_count": null,
   "metadata": {},
   "outputs": [],
   "source": [
    "factory = SimplePizzaFactory()\n",
    "store = PizzaStore(factory)\n",
    "pizza = store.order_pizza('cheese')"
   ]
  },
  {
   "cell_type": "markdown",
   "metadata": {},
   "source": [
    "### Final Updated Version\n",
    "* By using abstract class, make Pizza and Store classes as extendable. "
   ]
  },
  {
   "cell_type": "code",
   "execution_count": 1,
   "metadata": {},
   "outputs": [],
   "source": [
    "from abc import ABC, abstractmethod\n",
    "from typing import List"
   ]
  },
  {
   "cell_type": "code",
   "execution_count": 2,
   "metadata": {},
   "outputs": [],
   "source": [
    "class Pizza(ABC):\n",
    "    def __init__(self, name: str, dough: str, sauce: str, toppings: List[str]):\n",
    "        self._name = name\n",
    "        self._dough = dough\n",
    "        self._sauce = sauce\n",
    "        self._toppings = toppings\n",
    "        \n",
    "    def prepare(self) -> None:\n",
    "        print(f\"Preparing {self._name}\")\n",
    "        print(\"Tossing dough...\")\n",
    "        print(\"Adding sauce...\")\n",
    "        print(f\"Adding toppings: {self._toppings}\")\n",
    "              \n",
    "    def bake(self) -> None:\n",
    "        print(\"Bake for 25 minutes at 350\")\n",
    "        \n",
    "    def cut(self) -> None:\n",
    "        print(\"Cutting the pizza into diagonal slices\")\n",
    "        \n",
    "    def box(self) -> None:\n",
    "        print(\"Place pizza in official PizzaStore box\")\n",
    "        \n",
    "    def get_name(self) -> str:\n",
    "        return self._name"
   ]
  },
  {
   "cell_type": "code",
   "execution_count": 3,
   "metadata": {},
   "outputs": [],
   "source": [
    "class NYStyleCheesePizza(Pizza):\n",
    "    def __init__(self):\n",
    "        super().__init__(name=\"NY Style sauce and Cheese Pizza\",\n",
    "                         dough=\"Thin Crust Dough\",\n",
    "                         sauce=\"Marinara Sauce\",\n",
    "                         toppings=[\"Grated Reggiano Cheese\"])"
   ]
  },
  {
   "cell_type": "code",
   "execution_count": 4,
   "metadata": {},
   "outputs": [],
   "source": [
    "class PizzaStore(ABC):\n",
    "    def order_pizza(self, type: str) -> Pizza:\n",
    "        pizza = self.create_pizza(type)\n",
    "        \n",
    "        pizza.prepare()\n",
    "        pizza.bake()\n",
    "        pizza.cut()\n",
    "        pizza.box()\n",
    "        return pizza\n",
    "    \n",
    "    @abstractmethod\n",
    "    def create_pizza(type: str) -> Pizza:\n",
    "        pass"
   ]
  },
  {
   "cell_type": "code",
   "execution_count": 5,
   "metadata": {},
   "outputs": [],
   "source": [
    "class NYStylePizzaStore(PizzaStore):\n",
    "    def create_pizza(self, type: str) -> Pizza:        \n",
    "        if type == 'cheese':\n",
    "            pizza = NYStyleCheesePizza()\n",
    "        elif type == 'greek':\n",
    "            pizza = NYStyleGreekPizza()\n",
    "        elif type == 'pepperoni':\n",
    "            pizza = NYStylePepperoniPizza()\n",
    "        else:\n",
    "            raise ValueError(f\"Not defined pizza type: {type}\")\n",
    "        \n",
    "        return pizza"
   ]
  },
  {
   "cell_type": "code",
   "execution_count": 6,
   "metadata": {},
   "outputs": [
    {
     "name": "stdout",
     "output_type": "stream",
     "text": [
      "Preparing NY Style sauce and Cheese Pizza\n",
      "Tossing dough...\n",
      "Adding sauce...\n",
      "Adding toppings: ['Grated Reggiano Cheese']\n",
      "Bake for 25 minutes at 350\n",
      "Cutting the pizza into diagonal slices\n",
      "Place pizza in official PizzaStore box\n",
      "Jinil ordered a NY Style sauce and Cheese Pizza\n"
     ]
    }
   ],
   "source": [
    "ny_store = NYStylePizzaStore()\n",
    "pizza = ny_store.order_pizza(\"cheese\")\n",
    "print(f\"Jinil ordered a {pizza.get_name()}\")"
   ]
  }
 ],
 "metadata": {
  "kernelspec": {
   "display_name": "Python 3",
   "language": "python",
   "name": "python3"
  },
  "language_info": {
   "codemirror_mode": {
    "name": "ipython",
    "version": 3
   },
   "file_extension": ".py",
   "mimetype": "text/x-python",
   "name": "python",
   "nbconvert_exporter": "python",
   "pygments_lexer": "ipython3",
   "version": "3.7.3"
  }
 },
 "nbformat": 4,
 "nbformat_minor": 2
}
